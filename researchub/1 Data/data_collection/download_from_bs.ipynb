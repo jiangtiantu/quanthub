{
 "cells": [
  {
   "cell_type": "code",
   "execution_count": 17,
   "id": "ac9b19af",
   "metadata": {},
   "outputs": [
    {
     "name": "stderr",
     "output_type": "stream",
     "text": [
      "2022-04-29 13:51:59 - init_api.py - INFO - login respond error_code:0\n",
      "2022-04-29 13:51:59 - init_api.py - INFO - login respond  error_msg:success\n"
     ]
    },
    {
     "name": "stdout",
     "output_type": "stream",
     "text": [
      "login success!\n",
      "logout success!\n"
     ]
    }
   ],
   "source": [
    "from datetime import datetime, timedelta, date\n",
    "import numpy as np\n",
    "import pandas as pd\n",
    "import string\n",
    "from plutus.data.data_download.download_from_bs import DownloadBS\n",
    "\n",
    "download_bs = DownloadBS(dt_delta=20)"
   ]
  },
  {
   "cell_type": "markdown",
   "id": "810a54b7-6c0a-4214-b670-f19010648ee3",
   "metadata": {},
   "source": [
    "# stock"
   ]
  },
  {
   "cell_type": "markdown",
   "id": "32c5043c-32d1-40e1-9d8c-dee3fffc382a",
   "metadata": {
    "tags": []
   },
   "source": [
    "## master"
   ]
  },
  {
   "cell_type": "code",
   "execution_count": 2,
   "id": "6b059ece-b0f7-4321-9c0a-96deca1e1067",
   "metadata": {
    "tags": []
   },
   "outputs": [
    {
     "data": {
      "text/html": [
       "<div>\n",
       "<style scoped>\n",
       "    .dataframe tbody tr th:only-of-type {\n",
       "        vertical-align: middle;\n",
       "    }\n",
       "\n",
       "    .dataframe tbody tr th {\n",
       "        vertical-align: top;\n",
       "    }\n",
       "\n",
       "    .dataframe thead th {\n",
       "        text-align: right;\n",
       "    }\n",
       "</style>\n",
       "<table border=\"1\" class=\"dataframe\">\n",
       "  <thead>\n",
       "    <tr style=\"text-align: right;\">\n",
       "      <th></th>\n",
       "      <th>code</th>\n",
       "      <th>code_name</th>\n",
       "      <th>ipoDate</th>\n",
       "      <th>outDate</th>\n",
       "      <th>type</th>\n",
       "      <th>status</th>\n",
       "    </tr>\n",
       "  </thead>\n",
       "  <tbody>\n",
       "    <tr>\n",
       "      <th>0</th>\n",
       "      <td>of.159001</td>\n",
       "      <td>易方达保证金货币A</td>\n",
       "      <td>2013-03-29</td>\n",
       "      <td></td>\n",
       "      <td>5</td>\n",
       "      <td>1</td>\n",
       "    </tr>\n",
       "    <tr>\n",
       "      <th>1</th>\n",
       "      <td>of.159003</td>\n",
       "      <td>招商保证金快线A</td>\n",
       "      <td>2013-05-17</td>\n",
       "      <td></td>\n",
       "      <td>5</td>\n",
       "      <td>1</td>\n",
       "    </tr>\n",
       "    <tr>\n",
       "      <th>2</th>\n",
       "      <td>of.159005</td>\n",
       "      <td>汇添富收益快钱货币A</td>\n",
       "      <td>2014-12-23</td>\n",
       "      <td></td>\n",
       "      <td>5</td>\n",
       "      <td>1</td>\n",
       "    </tr>\n",
       "    <tr>\n",
       "      <th>3</th>\n",
       "      <td>of.159601</td>\n",
       "      <td>华夏MSCI中国A50互联互通ETF</td>\n",
       "      <td>2021-11-01</td>\n",
       "      <td></td>\n",
       "      <td>5</td>\n",
       "      <td>1</td>\n",
       "    </tr>\n",
       "    <tr>\n",
       "      <th>4</th>\n",
       "      <td>of.159602</td>\n",
       "      <td>南方MSCI中国A50互联互通ETF</td>\n",
       "      <td>2021-10-29</td>\n",
       "      <td></td>\n",
       "      <td>5</td>\n",
       "      <td>1</td>\n",
       "    </tr>\n",
       "    <tr>\n",
       "      <th>...</th>\n",
       "      <td>...</td>\n",
       "      <td>...</td>\n",
       "      <td>...</td>\n",
       "      <td>...</td>\n",
       "      <td>...</td>\n",
       "      <td>...</td>\n",
       "    </tr>\n",
       "    <tr>\n",
       "      <th>6800</th>\n",
       "      <td>sz.399994</td>\n",
       "      <td>中证信息安全主题指数</td>\n",
       "      <td>2015-03-12</td>\n",
       "      <td></td>\n",
       "      <td>2</td>\n",
       "      <td>1</td>\n",
       "    </tr>\n",
       "    <tr>\n",
       "      <th>6801</th>\n",
       "      <td>sz.399995</td>\n",
       "      <td>中证基建工程指数</td>\n",
       "      <td>2015-03-12</td>\n",
       "      <td></td>\n",
       "      <td>2</td>\n",
       "      <td>1</td>\n",
       "    </tr>\n",
       "    <tr>\n",
       "      <th>6802</th>\n",
       "      <td>sz.399996</td>\n",
       "      <td>中证智能家居指数</td>\n",
       "      <td>2014-09-17</td>\n",
       "      <td></td>\n",
       "      <td>2</td>\n",
       "      <td>1</td>\n",
       "    </tr>\n",
       "    <tr>\n",
       "      <th>6803</th>\n",
       "      <td>sz.399997</td>\n",
       "      <td>中证白酒指数</td>\n",
       "      <td>2015-01-21</td>\n",
       "      <td></td>\n",
       "      <td>2</td>\n",
       "      <td>1</td>\n",
       "    </tr>\n",
       "    <tr>\n",
       "      <th>6804</th>\n",
       "      <td>sz.399998</td>\n",
       "      <td>中证煤炭指数</td>\n",
       "      <td>2015-02-13</td>\n",
       "      <td></td>\n",
       "      <td>2</td>\n",
       "      <td>1</td>\n",
       "    </tr>\n",
       "  </tbody>\n",
       "</table>\n",
       "<p>6805 rows × 6 columns</p>\n",
       "</div>"
      ],
      "text/plain": [
       "           code           code_name     ipoDate outDate type status\n",
       "0     of.159001           易方达保证金货币A  2013-03-29            5      1\n",
       "1     of.159003            招商保证金快线A  2013-05-17            5      1\n",
       "2     of.159005          汇添富收益快钱货币A  2014-12-23            5      1\n",
       "3     of.159601  华夏MSCI中国A50互联互通ETF  2021-11-01            5      1\n",
       "4     of.159602  南方MSCI中国A50互联互通ETF  2021-10-29            5      1\n",
       "...         ...                 ...         ...     ...  ...    ...\n",
       "6800  sz.399994          中证信息安全主题指数  2015-03-12            2      1\n",
       "6801  sz.399995            中证基建工程指数  2015-03-12            2      1\n",
       "6802  sz.399996            中证智能家居指数  2014-09-17            2      1\n",
       "6803  sz.399997              中证白酒指数  2015-01-21            2      1\n",
       "6804  sz.399998              中证煤炭指数  2015-02-13            2      1\n",
       "\n",
       "[6805 rows x 6 columns]"
      ]
     },
     "execution_count": 2,
     "metadata": {},
     "output_type": "execute_result"
    }
   ],
   "source": [
    "code_info = download_bs.download_cn_stock_master_code_info()\n",
    "# download_bs.save_parquet(\n",
    "#     code_info,\n",
    "#     db=\"raw/cn/stock/master/\",\n",
    "#     tb=\"code_info/bs/code_info.parquet\"\n",
    "# )\n",
    "code_info"
   ]
  },
  {
   "cell_type": "code",
   "execution_count": 3,
   "id": "15fc4c10-9106-4b4a-a158-d7f96bb629fb",
   "metadata": {},
   "outputs": [],
   "source": [
    "trading_date_info = download_bs.download_cn_stock_master_trading_date_info()\n",
    "# download_bs.save_parquet(df=trading_date_info,\n",
    "#             db=\"raw/cn/stock/master/\",\n",
    "#             tb=\"trading_date_info_bs.parquet\")"
   ]
  },
  {
   "cell_type": "code",
   "execution_count": 4,
   "id": "43f5fe97-7383-4f0f-824a-7ff14ddaccda",
   "metadata": {
    "tags": []
   },
   "outputs": [],
   "source": [
    "code_df = download_bs.bs.query_all_stock(\"2022-03-28\").get_data()\n",
    "code_df[code_df[\"code_name\"].str.len() <= 4]\n",
    "code_list = code_df[\"code\"].to_list()"
   ]
  },
  {
   "cell_type": "markdown",
   "id": "f1bf6076-d578-464b-9d17-3c4ae1a9e226",
   "metadata": {},
   "source": [
    "## md "
   ]
  },
  {
   "cell_type": "code",
   "execution_count": null,
   "id": "83206e41",
   "metadata": {
    "pycharm": {
     "name": "#%%\n"
    },
    "tags": []
   },
   "outputs": [],
   "source": [
    "md_all_1d = download_bs.download_cn_stock_md_all_1d(\n",
    "    code_list, start_date=\"2010-01-01\", end_date=\"2020-03-28\"\n",
    ")\n",
    "download_bs.save_parquet(md_all_1d, db=\"raw/cn/stock/md/\", tb=\"all_1d/bs/\")"
   ]
  },
  {
   "cell_type": "code",
   "execution_count": 7,
   "id": "c2925d1c-c4bb-45cc-bcf7-284555e8e337",
   "metadata": {
    "tags": []
   },
   "outputs": [
    {
     "name": "stderr",
     "output_type": "stream",
     "text": [
      "2022-03-30 12:36:31 - database_control.py - INFO - Data inserted into parquet raw/cn/stock/md/.adjust_factor_bs.parquet: Dataframe(23121, 5)\n"
     ]
    }
   ],
   "source": [
    "adjust_factor_df = download_bs.download_cn_stock_md_adjust_factor(\n",
    "    code_list, start_date=\"2010-01-01\", end_date=\"2020-03-28\"\n",
    ")\n",
    "download_bs.save_parquet(\n",
    "    adjust_factor_df, db=\"raw/cn/stock/md/\", tb=\"adjust_factor_bs.parquet\"\n",
    ")"
   ]
  },
  {
   "cell_type": "markdown",
   "id": "53f90c43-ab4d-4044-b877-57934ccd36d7",
   "metadata": {},
   "source": [
    "## index"
   ]
  },
  {
   "cell_type": "code",
   "execution_count": null,
   "id": "1bfc7656-bed2-4cbf-964f-13e333dff07f",
   "metadata": {
    "tags": []
   },
   "outputs": [],
   "source": [
    "for trading_dt in trading_date_info[\"trading_date\"]:\n",
    "    stock_index_constituent_info = download_bs.download_cn_stock_index_constituent_info(\n",
    "        trading_dt\n",
    "    )\n",
    "    download_bs.save_parquet(\n",
    "        stock_index_constituent_info,\n",
    "        db=\"raw/cn/stock/index/\",\n",
    "        tb=\"index_constituent_info/bs/\",\n",
    "    )"
   ]
  },
  {
   "cell_type": "code",
   "execution_count": null,
   "id": "7df57460-c3d8-425e-a56a-fab9d39a5c56",
   "metadata": {},
   "outputs": [],
   "source": []
  },
  {
   "cell_type": "code",
   "execution_count": null,
   "id": "fd20904a-c917-4f78-8a1d-debffc2e3058",
   "metadata": {},
   "outputs": [],
   "source": []
  },
  {
   "cell_type": "code",
   "execution_count": 21,
   "id": "2c06c009-3cef-4e20-80e7-c7308d45b736",
   "metadata": {},
   "outputs": [],
   "source": []
  },
  {
   "cell_type": "code",
   "execution_count": null,
   "id": "e1def454-9346-45be-b63d-ac191cce439b",
   "metadata": {},
   "outputs": [],
   "source": []
  }
 ],
 "metadata": {
  "interpreter": {
   "hash": "ecf5722fdaf1897a315d257d89d94520bfcaa453217d5becf09b39e73618b0de"
  },
  "kernelspec": {
   "display_name": "Python 3",
   "language": "python",
   "name": "python3"
  },
  "language_info": {
   "codemirror_mode": {
    "name": "ipython",
    "version": 3
   },
   "file_extension": ".py",
   "mimetype": "text/x-python",
   "name": "python",
   "nbconvert_exporter": "python",
   "pygments_lexer": "ipython3",
   "version": "3.8.5"
  }
 },
 "nbformat": 4,
 "nbformat_minor": 5
}
