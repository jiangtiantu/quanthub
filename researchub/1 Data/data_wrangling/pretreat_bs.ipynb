{
 "cells": [
  {
   "cell_type": "code",
   "execution_count": 1,
   "id": "ac9b19af",
   "metadata": {},
   "outputs": [],
   "source": [
    "from datetime import datetime, timedelta, date\n",
    "import numpy as np\n",
    "import pandas as pd\n",
    "import string\n",
    "import pyarrow.parquet as pq\n",
    "\n",
    "\n",
    "from plutus.data.data_pretreat.pretreat_from_bs import PretreatBS\n",
    "\n",
    "pretreat_bs = PretreatBS(dt_delta=20)"
   ]
  },
  {
   "cell_type": "markdown",
   "id": "810a54b7-6c0a-4214-b670-f19010648ee3",
   "metadata": {},
   "source": [
    "# stock"
   ]
  },
  {
   "cell_type": "markdown",
   "id": "32c5043c-32d1-40e1-9d8c-dee3fffc382a",
   "metadata": {},
   "source": [
    "## master"
   ]
  },
  {
   "cell_type": "code",
   "execution_count": 3,
   "id": "6b059ece-b0f7-4321-9c0a-96deca1e1067",
   "metadata": {
    "tags": []
   },
   "outputs": [
    {
     "name": "stderr",
     "output_type": "stream",
     "text": [
      "2022-03-30 13:41:01 - ck_control.py - INFO - Data inserted into pretreated_cn_stock_master.code_info_bs: Dataframe(6805, 6)\n",
      "2022-03-30 13:41:01 - database_control.py - INFO - Data inserted into clickhouse pretreated_cn_stock_master.code_info_bs: Dataframe(6805, 6)\n"
     ]
    }
   ],
   "source": [
    "raw_code_info = pd.read_parquet(\n",
    "    \"/mnt/datadisk/data/raw/cn/stock/master/code_info/bs/code_info.parquet\"\n",
    ")\n",
    "\n",
    "pretreated_df = pretreat_bs.pretreat_cn_stock_master_code_info(raw_code_info)\n",
    "\n",
    "pretreat_bs.save_clickhouse(\n",
    "    pretreated_df,\n",
    "    db=\"pretreated_cn_stock_master\",\n",
    "    tb=\"code_info_bs\",\n",
    "    ind=[\"code\"],\n",
    ")"
   ]
  },
  {
   "cell_type": "code",
   "execution_count": 4,
   "id": "15fc4c10-9106-4b4a-a158-d7f96bb629fb",
   "metadata": {},
   "outputs": [
    {
     "name": "stderr",
     "output_type": "stream",
     "text": [
      "2022-03-30 13:44:14 - ck_control.py - INFO - Data inserted into pretreated_cn_stock_master.trading_date_info_bs: Dataframe(3159, 1)\n",
      "2022-03-30 13:44:14 - database_control.py - INFO - Data inserted into clickhouse pretreated_cn_stock_master.trading_date_info_bs: Dataframe(3159, 1)\n"
     ]
    }
   ],
   "source": [
    "raw_trading_date_info = pd.read_parquet(\n",
    "    \"/mnt/datadisk/data/raw/cn/stock/master/trading_date_info_bs.parquet\"\n",
    ")\n",
    "pretreated_df = pretreat_bs.pretreat_cn_stock_master_trading_date_info(\n",
    "    raw_trading_date_info\n",
    ")\n",
    "pretreat_bs.save_clickhouse(\n",
    "    df=pretreated_df,\n",
    "    db=\"pretreated_cn_stock_master\",\n",
    "    tb=\"trading_date_info_bs\",\n",
    "    ind=[\"trading_date\"],\n",
    ")"
   ]
  },
  {
   "cell_type": "markdown",
   "id": "f1bf6076-d578-464b-9d17-3c4ae1a9e226",
   "metadata": {},
   "source": [
    "# md "
   ]
  },
  {
   "cell_type": "code",
   "execution_count": 2,
   "id": "83206e41",
   "metadata": {
    "pycharm": {
     "name": "#%%\n"
    },
    "tags": []
   },
   "outputs": [
    {
     "name": "stderr",
     "output_type": "stream",
     "text": [
      "2022-03-30 13:54:29 - ck_control.py - INFO - Data inserted into pretreated_cn_stock_md.all_1d_bs: Dataframe(7793587, 11)\n",
      "2022-03-30 13:54:29 - database_control.py - INFO - Data inserted into clickhouse pretreated_cn_stock_md.all_1d_bs: Dataframe(7793587, 11)\n"
     ]
    }
   ],
   "source": [
    "raw_df = pd.read_parquet(\"/mnt/datadisk/data/raw/cn/stock/md/all_1d/bs/\")\n",
    "pretreated_df = pretreat_bs.pretreat_cn_stock_md_all_1d(raw_df)\n",
    "pretreat_bs.save_clickhouse(\n",
    "    pretreated_df,\n",
    "    db=\"pretreated_cn_stock_md\",\n",
    "    tb=\"all_1d_bs\",\n",
    "    ind=[\"trading_date\", \"code\"],\n",
    "    partition=[\"trading_date\"],\n",
    ")"
   ]
  },
  {
   "cell_type": "code",
   "execution_count": 2,
   "id": "c49a9d68-1ba7-453c-b145-6ff2b98e0e19",
   "metadata": {
    "tags": []
   },
   "outputs": [
    {
     "name": "stderr",
     "output_type": "stream",
     "text": [
      "2022-03-30 14:29:19 - ck_control.py - INFO - Data inserted into pretreated_cn_stock_md.adjust_factor_bs: Dataframe(23121, 4)\n",
      "2022-03-30 14:29:19 - database_control.py - INFO - Data inserted into clickhouse pretreated_cn_stock_md.adjust_factor_bs: Dataframe(23121, 4)\n"
     ]
    },
    {
     "data": {
      "text/html": [
       "<div>\n",
       "<style scoped>\n",
       "    .dataframe tbody tr th:only-of-type {\n",
       "        vertical-align: middle;\n",
       "    }\n",
       "\n",
       "    .dataframe tbody tr th {\n",
       "        vertical-align: top;\n",
       "    }\n",
       "\n",
       "    .dataframe thead th {\n",
       "        text-align: right;\n",
       "    }\n",
       "</style>\n",
       "<table border=\"1\" class=\"dataframe\">\n",
       "  <thead>\n",
       "    <tr style=\"text-align: right;\">\n",
       "      <th></th>\n",
       "      <th>code</th>\n",
       "      <th>divid_operate_date</th>\n",
       "      <th>qfq_factor</th>\n",
       "      <th>hfq_factor</th>\n",
       "      <th>adjust_factor</th>\n",
       "    </tr>\n",
       "  </thead>\n",
       "  <tbody>\n",
       "    <tr>\n",
       "      <th>0</th>\n",
       "      <td>600000</td>\n",
       "      <td>2010-06-10</td>\n",
       "      <td>0.359187</td>\n",
       "      <td>3.890931</td>\n",
       "      <td>3.890931</td>\n",
       "    </tr>\n",
       "    <tr>\n",
       "      <th>1</th>\n",
       "      <td>600000</td>\n",
       "      <td>2011-06-03</td>\n",
       "      <td>0.472595</td>\n",
       "      <td>5.119442</td>\n",
       "      <td>5.119442</td>\n",
       "    </tr>\n",
       "    <tr>\n",
       "      <th>2</th>\n",
       "      <td>600000</td>\n",
       "      <td>2012-06-26</td>\n",
       "      <td>0.490207</td>\n",
       "      <td>5.310229</td>\n",
       "      <td>5.310229</td>\n",
       "    </tr>\n",
       "    <tr>\n",
       "      <th>3</th>\n",
       "      <td>600000</td>\n",
       "      <td>2013-06-03</td>\n",
       "      <td>0.517386</td>\n",
       "      <td>5.604647</td>\n",
       "      <td>5.604647</td>\n",
       "    </tr>\n",
       "    <tr>\n",
       "      <th>4</th>\n",
       "      <td>600000</td>\n",
       "      <td>2014-06-24</td>\n",
       "      <td>0.555328</td>\n",
       "      <td>6.015655</td>\n",
       "      <td>6.015655</td>\n",
       "    </tr>\n",
       "    <tr>\n",
       "      <th>...</th>\n",
       "      <td>...</td>\n",
       "      <td>...</td>\n",
       "      <td>...</td>\n",
       "      <td>...</td>\n",
       "      <td>...</td>\n",
       "    </tr>\n",
       "    <tr>\n",
       "      <th>0</th>\n",
       "      <td>300820</td>\n",
       "      <td>2020-02-13</td>\n",
       "      <td>0.655809</td>\n",
       "      <td>1.000000</td>\n",
       "      <td>1.000000</td>\n",
       "    </tr>\n",
       "    <tr>\n",
       "      <th>0</th>\n",
       "      <td>300821</td>\n",
       "      <td>2020-03-12</td>\n",
       "      <td>0.963516</td>\n",
       "      <td>1.000000</td>\n",
       "      <td>1.000000</td>\n",
       "    </tr>\n",
       "    <tr>\n",
       "      <th>0</th>\n",
       "      <td>300822</td>\n",
       "      <td>2020-03-13</td>\n",
       "      <td>0.653393</td>\n",
       "      <td>1.000000</td>\n",
       "      <td>1.000000</td>\n",
       "    </tr>\n",
       "    <tr>\n",
       "      <th>0</th>\n",
       "      <td>300823</td>\n",
       "      <td>2020-03-19</td>\n",
       "      <td>0.977294</td>\n",
       "      <td>1.000000</td>\n",
       "      <td>1.000000</td>\n",
       "    </tr>\n",
       "    <tr>\n",
       "      <th>0</th>\n",
       "      <td>300825</td>\n",
       "      <td>2020-03-27</td>\n",
       "      <td>1.000000</td>\n",
       "      <td>1.000000</td>\n",
       "      <td>1.000000</td>\n",
       "    </tr>\n",
       "  </tbody>\n",
       "</table>\n",
       "<p>23121 rows × 5 columns</p>\n",
       "</div>"
      ],
      "text/plain": [
       "      code divid_operate_date qfq_factor hfq_factor adjust_factor\n",
       "0   600000         2010-06-10   0.359187   3.890931      3.890931\n",
       "1   600000         2011-06-03   0.472595   5.119442      5.119442\n",
       "2   600000         2012-06-26   0.490207   5.310229      5.310229\n",
       "3   600000         2013-06-03   0.517386   5.604647      5.604647\n",
       "4   600000         2014-06-24   0.555328   6.015655      6.015655\n",
       "..     ...                ...        ...        ...           ...\n",
       "0   300820         2020-02-13   0.655809   1.000000      1.000000\n",
       "0   300821         2020-03-12   0.963516   1.000000      1.000000\n",
       "0   300822         2020-03-13   0.653393   1.000000      1.000000\n",
       "0   300823         2020-03-19   0.977294   1.000000      1.000000\n",
       "0   300825         2020-03-27   1.000000   1.000000      1.000000\n",
       "\n",
       "[23121 rows x 5 columns]"
      ]
     },
     "execution_count": 2,
     "metadata": {},
     "output_type": "execute_result"
    }
   ],
   "source": [
    "raw_df = pd.read_parquet(\"/mnt/datadisk/data/raw/cn/stock/md/adjust_factor_bs.parquet\")\n",
    "pretreated_df = pretreat_bs.pretreat_cn_stock_md_adjust_factor(raw_df)\n",
    "pretreat_bs.save_clickhouse(\n",
    "    pretreated_df, db=\"pretreated_cn_stock_md\", tb=\"adjust_factor_bs\", ind=[\"code\"]\n",
    ")\n",
    "pretreated_df"
   ]
  },
  {
   "cell_type": "code",
   "execution_count": 4,
   "id": "9be6a67d-e6b5-4a15-9e05-bb1ecc0ffd35",
   "metadata": {},
   "outputs": [
    {
     "name": "stderr",
     "output_type": "stream",
     "text": [
      "2022-03-30 14:48:31 - ck_control.py - INFO - Data inserted into pretreated_cn_stock_index.index_constituent_info_bs: Dataframe(504896, 4)\n",
      "2022-03-30 14:48:31 - database_control.py - INFO - Data inserted into clickhouse pretreated_cn_stock_index.index_constituent_info_bs: Dataframe(504896, 4)\n"
     ]
    }
   ],
   "source": [
    "raw_df = pd.read_parquet(\n",
    "    \"/mnt/datadisk/data/raw/cn/stock/index/index_constituent_info/bs/\"\n",
    ")\n",
    "pretreated_df = pretreat_bs.pretreat_cn_stock_index_constituent_info(raw_df)\n",
    "pretreat_bs.save_clickhouse(\n",
    "    pretreated_df,\n",
    "    db=\"pretreated_cn_stock_index\",\n",
    "    tb=\"index_constituent_info_bs\",\n",
    "    ind=[\"trading_date\", \"code\"],\n",
    "    partition=[\"trading_date\"],\n",
    ")"
   ]
  },
  {
   "cell_type": "code",
   "execution_count": 2,
   "id": "9625ec5f-0be0-4e3e-9fea-7bdbc1c77a2f",
   "metadata": {},
   "outputs": [
    {
     "name": "stderr",
     "output_type": "stream",
     "text": [
      "2022-04-29 14:11:34 - ck_control.py - INFO - Data inserted into pretreated_cn_stock_index.industry_sw1_bs: Dataframe(9444958, 6)\n",
      "2022-04-29 14:11:34 - database_control.py - INFO - Data inserted into clickhouse pretreated_cn_stock_index.industry_sw1_bs: Dataframe(9444958, 6)\n"
     ]
    }
   ],
   "source": [
    "raw_df = pd.read_parquet(\"/mnt/datadisk/data/raw/cn/stock/index/industry_sw1/bs/\")\n",
    "pretreated_df = pretreat_bs.pretreat_cn_stock_index_constituent_info(raw_df)\n",
    "pretreat_bs.save_clickhouse(\n",
    "    pretreated_df,\n",
    "    db=\"pretreated_cn_stock_index\",\n",
    "    tb=\"industry_sw1_bs\",\n",
    "    ind=[\"trading_date\", \"code\"],\n",
    "    partition=[\"trading_date\"],\n",
    ")"
   ]
  },
  {
   "cell_type": "code",
   "execution_count": null,
   "id": "76136d43-1b2a-423a-b680-2e4db5bf7096",
   "metadata": {},
   "outputs": [],
   "source": []
  }
 ],
 "metadata": {
  "interpreter": {
   "hash": "ecf5722fdaf1897a315d257d89d94520bfcaa453217d5becf09b39e73618b0de"
  },
  "kernelspec": {
   "display_name": "Python 3 (ipykernel)",
   "language": "python",
   "name": "python3"
  },
  "language_info": {
   "codemirror_mode": {
    "name": "ipython",
    "version": 3
   },
   "file_extension": ".py",
   "mimetype": "text/x-python",
   "name": "python",
   "nbconvert_exporter": "python",
   "pygments_lexer": "ipython3",
   "version": "3.8.10"
  }
 },
 "nbformat": 4,
 "nbformat_minor": 5
}
