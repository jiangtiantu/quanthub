{
 "cells": [
  {
   "cell_type": "code",
   "execution_count": 1,
   "id": "b807df1a",
   "metadata": {},
   "outputs": [],
   "source": [
    "from datetime import timedelta, date\n",
    "from typing import Union\n",
    "\n",
    "import pandas as pd\n",
    "from plutus.data.data_process.process_cn_future_master import ProcessCnFutureMaster\n",
    "from plutus.data.data_process.process_cn_future_md import ProcessCnFutureMd"
   ]
  },
  {
   "cell_type": "code",
   "execution_count": 2,
   "id": "432d0a54-2c0e-4e0b-a826-cb276236f37f",
   "metadata": {
    "tags": []
   },
   "outputs": [],
   "source": [
    "process_cn_future_master = ProcessCnFutureMaster()\n",
    "process_cn_future_md = ProcessCnFutureMd()"
   ]
  },
  {
   "cell_type": "markdown",
   "id": "58cc73ab-282c-4894-91f5-1833a49eeaba",
   "metadata": {},
   "source": [
    "# future"
   ]
  },
  {
   "cell_type": "markdown",
   "id": "3d5082bf-0492-47bf-8309-7c27a9801a5a",
   "metadata": {},
   "source": [
    "## master"
   ]
  },
  {
   "cell_type": "code",
   "execution_count": 3,
   "id": "532f2893-abe9-411d-8ab5-e05b17119682",
   "metadata": {},
   "outputs": [
    {
     "name": "stderr",
     "output_type": "stream",
     "text": [
      "2022-06-15 01:27:29 - ck_control.py - INFO - Data inserted into processed_cn_future_master.contract_info_rq: Dataframe(685, 7)\n",
      "2022-06-15 01:27:29 - database_control.py - INFO - Data inserted into clickhouse processed_cn_future_master.contract_info_rq: Dataframe(685, 7)\n"
     ]
    }
   ],
   "source": [
    "# contract_info_rq\n",
    "trading_date_info = process_cn_future_master.read_clickhouse(\n",
    "    \"commercial_cn_future_master\", \"trading_date_info\"\n",
    ")\n",
    "contract_info = process_cn_future_master.read_clickhouse(\n",
    "    \"pretreated_cn_future_master\", \"contract_info_rq\"\n",
    ")\n",
    "processed_contract_info = process_cn_future_master.process_contract_info(\n",
    "    trading_date_info[\"trading_date\"], contract_info\n",
    ")\n",
    "process_cn_future_master.save_clickhouse(\n",
    "    processed_contract_info,\n",
    "    \"processed_cn_future_master\",\n",
    "    \"contract_info_rq\",\n",
    "    ind=[\"contract\"],\n",
    ")"
   ]
  },
  {
   "cell_type": "markdown",
   "id": "5e0cece0-57ce-490b-9cf5-e47d0ed82af8",
   "metadata": {},
   "source": [
    "## md"
   ]
  },
  {
   "cell_type": "code",
   "execution_count": 4,
   "id": "af92f4c7-80f4-4160-a984-36596084f61d",
   "metadata": {
    "tags": []
   },
   "outputs": [
    {
     "name": "stdout",
     "output_type": "stream",
     "text": [
      "select * from pretreated_cn_future_md.all_1d_rq where trading_date   >  '2010-01-01 00:00:00' \n"
     ]
    },
    {
     "name": "stderr",
     "output_type": "stream",
     "text": [
      "2022-06-15 01:28:40 - ck_control.py - INFO - Data inserted into processed_cn_future_md.main_roll_calendar_rq: Dataframe(16196, 6)\n",
      "2022-06-15 01:28:40 - database_control.py - INFO - Data inserted into clickhouse processed_cn_future_md.main_roll_calendar_rq: Dataframe(16196, 6)\n"
     ]
    }
   ],
   "source": [
    "# main_roll_calendar_rq\n",
    "pretreated_df = process_cn_future_md.read_clickhouse(\n",
    "    \"pretreated_cn_future_md\",\n",
    "    \"all_1d_rq\",\n",
    "    filters=[(\"trading_date \", \" > \", \"'2010-01-01 00:00:00'\")],\n",
    ")\n",
    "pretreated_df.sort_values(by=[\"trading_date\"], inplace=True)\n",
    "\n",
    "processed_df = process_cn_future_md.process_main_roll_calendar(\n",
    "    pretreated_df, contract_info\n",
    ")\n",
    "processed_df.dropna(subset=[\"o_m\", \"o_nm\", \"v_nm\", \"v_m\"], inplace=True)\n",
    "process_cn_future_md.save_clickhouse(\n",
    "    processed_df,\n",
    "    \"processed_cn_future_md\",\n",
    "    \"main_roll_calendar_rq\",\n",
    "    ind=[\"trading_date\", \"symbol\"],\n",
    "    partition=[\"trading_date\"],\n",
    ")"
   ]
  },
  {
   "cell_type": "code",
   "execution_count": null,
   "id": "0acd885e-4663-42e2-93b8-c834431cc49e",
   "metadata": {},
   "outputs": [],
   "source": []
  }
 ],
 "metadata": {
  "interpreter": {
   "hash": "ecf5722fdaf1897a315d257d89d94520bfcaa453217d5becf09b39e73618b0de"
  },
  "kernelspec": {
   "display_name": "Python 3 (ipykernel)",
   "language": "python",
   "name": "python3"
  },
  "language_info": {
   "codemirror_mode": {
    "name": "ipython",
    "version": 3
   },
   "file_extension": ".py",
   "mimetype": "text/x-python",
   "name": "python",
   "nbconvert_exporter": "python",
   "pygments_lexer": "ipython3",
   "version": "3.9.12"
  }
 },
 "nbformat": 4,
 "nbformat_minor": 5
}
