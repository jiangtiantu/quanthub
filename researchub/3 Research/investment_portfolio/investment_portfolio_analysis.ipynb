{
 "cells": [
  {
   "cell_type": "code",
   "execution_count": 1,
   "metadata": {},
   "outputs": [
    {
     "name": "stderr",
     "output_type": "stream",
     "text": [
      "/usr/local/miniconda3/lib/python3.8/site-packages/statsmodels/compat/pandas.py:65: FutureWarning: pandas.Int64Index is deprecated and will be removed from pandas in a future version. Use pandas.Index with the appropriate dtype instead.\n",
      "  from pandas import Int64Index as NumericIndex\n"
     ]
    }
   ],
   "source": [
    "import plutus.research.backtest.backtest as ba\n",
    "import pandas as pd\n",
    "import numpy as np\n",
    "import empyrical as empl\n",
    "import matplotlib.pyplot as plt\n",
    "from plutus.portfolio.portfolio_base import PortfolioBase\n",
    "\n",
    "backtest_cs = ba.BacktestCS()\n",
    "portfolio_base = PortfolioBase()"
   ]
  },
  {
   "cell_type": "markdown",
   "metadata": {},
   "source": [
    "## 读取md数据"
   ]
  },
  {
   "cell_type": "code",
   "execution_count": 27,
   "metadata": {},
   "outputs": [
    {
     "data": {
      "text/html": [
       "<div>\n",
       "<style scoped>\n",
       "    .dataframe tbody tr th:only-of-type {\n",
       "        vertical-align: middle;\n",
       "    }\n",
       "\n",
       "    .dataframe tbody tr th {\n",
       "        vertical-align: top;\n",
       "    }\n",
       "\n",
       "    .dataframe thead th {\n",
       "        text-align: right;\n",
       "    }\n",
       "</style>\n",
       "<table border=\"1\" class=\"dataframe\">\n",
       "  <thead>\n",
       "    <tr style=\"text-align: right;\">\n",
       "      <th></th>\n",
       "      <th></th>\n",
       "      <th>turnover</th>\n",
       "      <th>down_limit</th>\n",
       "      <th>trade_num</th>\n",
       "      <th>low</th>\n",
       "      <th>high</th>\n",
       "      <th>open</th>\n",
       "      <th>up_limit</th>\n",
       "      <th>volume</th>\n",
       "      <th>close</th>\n",
       "      <th>pre_close</th>\n",
       "      <th>ret_1d</th>\n",
       "    </tr>\n",
       "    <tr>\n",
       "      <th>trading_date</th>\n",
       "      <th>code</th>\n",
       "      <th></th>\n",
       "      <th></th>\n",
       "      <th></th>\n",
       "      <th></th>\n",
       "      <th></th>\n",
       "      <th></th>\n",
       "      <th></th>\n",
       "      <th></th>\n",
       "      <th></th>\n",
       "      <th></th>\n",
       "      <th></th>\n",
       "    </tr>\n",
       "  </thead>\n",
       "  <tbody>\n",
       "    <tr>\n",
       "      <th rowspan=\"5\" valign=\"top\">2020-12-02</th>\n",
       "      <th>000001</th>\n",
       "      <td>1.758639e+09</td>\n",
       "      <td>18.05</td>\n",
       "      <td>80790.0</td>\n",
       "      <td>19.52</td>\n",
       "      <td>20.06</td>\n",
       "      <td>19.93</td>\n",
       "      <td>22.06</td>\n",
       "      <td>88938529.0</td>\n",
       "      <td>19.63</td>\n",
       "      <td>20.05</td>\n",
       "      <td>-0.020948</td>\n",
       "    </tr>\n",
       "    <tr>\n",
       "      <th>000002</th>\n",
       "      <td>2.996576e+09</td>\n",
       "      <td>27.68</td>\n",
       "      <td>78280.0</td>\n",
       "      <td>30.71</td>\n",
       "      <td>31.96</td>\n",
       "      <td>30.89</td>\n",
       "      <td>33.83</td>\n",
       "      <td>95456166.0</td>\n",
       "      <td>31.13</td>\n",
       "      <td>30.75</td>\n",
       "      <td>0.012358</td>\n",
       "    </tr>\n",
       "    <tr>\n",
       "      <th>000004</th>\n",
       "      <td>1.618050e+08</td>\n",
       "      <td>24.93</td>\n",
       "      <td>11636.0</td>\n",
       "      <td>26.19</td>\n",
       "      <td>27.70</td>\n",
       "      <td>27.40</td>\n",
       "      <td>30.47</td>\n",
       "      <td>6080383.0</td>\n",
       "      <td>26.38</td>\n",
       "      <td>27.70</td>\n",
       "      <td>-0.047653</td>\n",
       "    </tr>\n",
       "    <tr>\n",
       "      <th>000005</th>\n",
       "      <td>2.655382e+07</td>\n",
       "      <td>2.34</td>\n",
       "      <td>2867.0</td>\n",
       "      <td>2.57</td>\n",
       "      <td>2.60</td>\n",
       "      <td>2.59</td>\n",
       "      <td>2.86</td>\n",
       "      <td>10266207.0</td>\n",
       "      <td>2.59</td>\n",
       "      <td>2.60</td>\n",
       "      <td>-0.003846</td>\n",
       "    </tr>\n",
       "    <tr>\n",
       "      <th>000006</th>\n",
       "      <td>1.102157e+08</td>\n",
       "      <td>5.19</td>\n",
       "      <td>8732.0</td>\n",
       "      <td>5.74</td>\n",
       "      <td>5.85</td>\n",
       "      <td>5.79</td>\n",
       "      <td>6.35</td>\n",
       "      <td>18960576.0</td>\n",
       "      <td>5.83</td>\n",
       "      <td>5.77</td>\n",
       "      <td>0.010399</td>\n",
       "    </tr>\n",
       "  </tbody>\n",
       "</table>\n",
       "</div>"
      ],
      "text/plain": [
       "                         turnover  down_limit  trade_num    low   high   open  \\\n",
       "trading_date code                                                               \n",
       "2020-12-02   000001  1.758639e+09       18.05    80790.0  19.52  20.06  19.93   \n",
       "             000002  2.996576e+09       27.68    78280.0  30.71  31.96  30.89   \n",
       "             000004  1.618050e+08       24.93    11636.0  26.19  27.70  27.40   \n",
       "             000005  2.655382e+07        2.34     2867.0   2.57   2.60   2.59   \n",
       "             000006  1.102157e+08        5.19     8732.0   5.74   5.85   5.79   \n",
       "\n",
       "                     up_limit      volume  close  pre_close    ret_1d  \n",
       "trading_date code                                                      \n",
       "2020-12-02   000001     22.06  88938529.0  19.63      20.05 -0.020948  \n",
       "             000002     33.83  95456166.0  31.13      30.75  0.012358  \n",
       "             000004     30.47   6080383.0  26.38      27.70 -0.047653  \n",
       "             000005      2.86  10266207.0   2.59       2.60 -0.003846  \n",
       "             000006      6.35  18960576.0   5.83       5.77  0.010399  "
      ]
     },
     "execution_count": 27,
     "metadata": {},
     "output_type": "execute_result"
    }
   ],
   "source": [
    "all_1d_df = pd.read_parquet(\"../../../datahub/raw/cn/stock/md/all_1d.parquet\")\n",
    "all_1d_df.set_index([\"trading_date\", \"code\"], inplace=True)\n",
    "all_1d_df[\"ret_1d\"] = all_1d_df[\"close\"] / all_1d_df[\"pre_close\"] - 1\n",
    "all_1d_df.head()"
   ]
  },
  {
   "cell_type": "markdown",
   "metadata": {},
   "source": [
    "## 读取signal数据"
   ]
  },
  {
   "cell_type": "code",
   "execution_count": 4,
   "metadata": {},
   "outputs": [
    {
     "data": {
      "text/html": [
       "<div>\n",
       "<style scoped>\n",
       "    .dataframe tbody tr th:only-of-type {\n",
       "        vertical-align: middle;\n",
       "    }\n",
       "\n",
       "    .dataframe tbody tr th {\n",
       "        vertical-align: top;\n",
       "    }\n",
       "\n",
       "    .dataframe thead th {\n",
       "        text-align: right;\n",
       "    }\n",
       "</style>\n",
       "<table border=\"1\" class=\"dataframe\">\n",
       "  <thead>\n",
       "    <tr style=\"text-align: right;\">\n",
       "      <th></th>\n",
       "      <th></th>\n",
       "      <th>value</th>\n",
       "      <th>name</th>\n",
       "      <th>type</th>\n",
       "      <th>ret_1d</th>\n",
       "      <th>pnl_1d</th>\n",
       "    </tr>\n",
       "    <tr>\n",
       "      <th>trading_date</th>\n",
       "      <th>code</th>\n",
       "      <th></th>\n",
       "      <th></th>\n",
       "      <th></th>\n",
       "      <th></th>\n",
       "      <th></th>\n",
       "    </tr>\n",
       "  </thead>\n",
       "  <tbody>\n",
       "    <tr>\n",
       "      <th rowspan=\"5\" valign=\"top\">2020-12-09</th>\n",
       "      <th>000798</th>\n",
       "      <td>-1.0</td>\n",
       "      <td>factor_cs_1d_example1</td>\n",
       "      <td>Mom</td>\n",
       "      <td>-0.099662</td>\n",
       "      <td>0.099662</td>\n",
       "    </tr>\n",
       "    <tr>\n",
       "      <th>000835</th>\n",
       "      <td>-1.0</td>\n",
       "      <td>factor_cs_1d_example1</td>\n",
       "      <td>Mom</td>\n",
       "      <td>0.000000</td>\n",
       "      <td>-0.000000</td>\n",
       "    </tr>\n",
       "    <tr>\n",
       "      <th>002466</th>\n",
       "      <td>-1.0</td>\n",
       "      <td>factor_cs_1d_example1</td>\n",
       "      <td>Mom</td>\n",
       "      <td>-0.100000</td>\n",
       "      <td>0.100000</td>\n",
       "    </tr>\n",
       "    <tr>\n",
       "      <th>002510</th>\n",
       "      <td>1.0</td>\n",
       "      <td>factor_cs_1d_example1</td>\n",
       "      <td>Mom</td>\n",
       "      <td>-0.034091</td>\n",
       "      <td>-0.034091</td>\n",
       "    </tr>\n",
       "    <tr>\n",
       "      <th>002612</th>\n",
       "      <td>-1.0</td>\n",
       "      <td>factor_cs_1d_example1</td>\n",
       "      <td>Mom</td>\n",
       "      <td>0.100114</td>\n",
       "      <td>-0.100114</td>\n",
       "    </tr>\n",
       "  </tbody>\n",
       "</table>\n",
       "</div>"
      ],
      "text/plain": [
       "                     value                    name type    ret_1d    pnl_1d\n",
       "trading_date code                                                          \n",
       "2020-12-09   000798   -1.0  factor_cs_1d_example1  Mom -0.099662  0.099662\n",
       "             000835   -1.0  factor_cs_1d_example1  Mom  0.000000 -0.000000\n",
       "             002466   -1.0  factor_cs_1d_example1  Mom -0.100000  0.100000\n",
       "             002510    1.0  factor_cs_1d_example1  Mom -0.034091 -0.034091\n",
       "             002612   -1.0  factor_cs_1d_example1  Mom  0.100114 -0.100114"
      ]
     },
     "execution_count": 4,
     "metadata": {},
     "output_type": "execute_result"
    }
   ],
   "source": [
    "signal_dir = f\"/mnt/gitee/quanthub/signalhub/raw/cn/stock/\"\n",
    "all_signal_df = pd.read_parquet(signal_dir)\n",
    "all_signal_df.set_index([\"trading_date\", \"code\"], inplace=True)\n",
    "all_signal_df[\"ret_1d\"] = all_1d_df[\"ret_1d\"].unstack().shift(-1).stack()\n",
    "all_signal_df[\"pnl_1d\"] = all_signal_df[\"ret_1d\"] * all_signal_df[\"value\"]\n",
    "all_signal_df.head()"
   ]
  },
  {
   "cell_type": "markdown",
   "metadata": {},
   "source": [
    "## 计算每日收益"
   ]
  },
  {
   "cell_type": "code",
   "execution_count": 26,
   "metadata": {
    "tags": []
   },
   "outputs": [
    {
     "data": {
      "text/html": [
       "<div>\n",
       "<style scoped>\n",
       "    .dataframe tbody tr th:only-of-type {\n",
       "        vertical-align: middle;\n",
       "    }\n",
       "\n",
       "    .dataframe tbody tr th {\n",
       "        vertical-align: top;\n",
       "    }\n",
       "\n",
       "    .dataframe thead th {\n",
       "        text-align: right;\n",
       "    }\n",
       "</style>\n",
       "<table border=\"1\" class=\"dataframe\">\n",
       "  <thead>\n",
       "    <tr style=\"text-align: right;\">\n",
       "      <th>name</th>\n",
       "      <th>factor_cs_1d_example1</th>\n",
       "      <th>factor_cs_1d_example2</th>\n",
       "    </tr>\n",
       "    <tr>\n",
       "      <th>trading_date</th>\n",
       "      <th></th>\n",
       "      <th></th>\n",
       "    </tr>\n",
       "  </thead>\n",
       "  <tbody>\n",
       "    <tr>\n",
       "      <th>2020-12-16</th>\n",
       "      <td>-0.002469</td>\n",
       "      <td>-0.011327</td>\n",
       "    </tr>\n",
       "    <tr>\n",
       "      <th>2020-12-17</th>\n",
       "      <td>-0.039398</td>\n",
       "      <td>-0.022605</td>\n",
       "    </tr>\n",
       "    <tr>\n",
       "      <th>2020-12-18</th>\n",
       "      <td>-0.030679</td>\n",
       "      <td>-0.028984</td>\n",
       "    </tr>\n",
       "    <tr>\n",
       "      <th>2020-12-21</th>\n",
       "      <td>-0.036898</td>\n",
       "      <td>-0.032561</td>\n",
       "    </tr>\n",
       "    <tr>\n",
       "      <th>2020-12-22</th>\n",
       "      <td>-0.037475</td>\n",
       "      <td>-0.037799</td>\n",
       "    </tr>\n",
       "  </tbody>\n",
       "</table>\n",
       "</div>"
      ],
      "text/plain": [
       "name          factor_cs_1d_example1  factor_cs_1d_example2\n",
       "trading_date                                                \n",
       "2020-12-16                 -0.002469               -0.011327\n",
       "2020-12-17                 -0.039398               -0.022605\n",
       "2020-12-18                 -0.030679               -0.028984\n",
       "2020-12-21                 -0.036898               -0.032561\n",
       "2020-12-22                 -0.037475               -0.037799"
      ]
     },
     "execution_count": 26,
     "metadata": {},
     "output_type": "execute_result"
    }
   ],
   "source": [
    "all_pnl_1d_df = all_signal_df.groupby([\"name\", \"trading_date\"])[\"pnl_1d\"].mean()\n",
    "all_pnl_1d_df = all_pnl_1d_df.unstack().T\n",
    "all_pnl_1d_df.dropna(inplace=True)\n",
    "all_pnl_1d_df.head()"
   ]
  },
  {
   "cell_type": "markdown",
   "metadata": {},
   "source": [
    "## 筛选出需要的因子"
   ]
  },
  {
   "cell_type": "code",
   "execution_count": 13,
   "metadata": {},
   "outputs": [],
   "source": [
    "calmar_ratio_df = portfolio_base.cal_calmar_ratio(all_pnl_1d_df)\n",
    "select_s = np.where(abs(calmar_ratio_df) > 0.5, 1, np.nan)\n",
    "selected_pnl_1d_df = all_pnl_1d_df.mul(select_s, axis=1)"
   ]
  },
  {
   "cell_type": "markdown",
   "metadata": {},
   "source": [
    "## 计算因子组合权重"
   ]
  },
  {
   "cell_type": "code",
   "execution_count": 17,
   "metadata": {},
   "outputs": [
    {
     "data": {
      "text/plain": [
       "factor_cs_1d_example1    0.522876\n",
       "factor_cs_1d_example2    0.477124\n",
       "Name: weights, dtype: float64"
      ]
     },
     "execution_count": 17,
     "metadata": {},
     "output_type": "execute_result"
    }
   ],
   "source": [
    "portfolio_weight_s = portfolio_base.cal_weight(selected_pnl_1d_df)\n",
    "portfolio_weight_s"
   ]
  },
  {
   "cell_type": "markdown",
   "metadata": {},
   "source": [
    "## 计算组合收益"
   ]
  },
  {
   "cell_type": "code",
   "execution_count": 25,
   "metadata": {},
   "outputs": [
    {
     "data": {
      "text/plain": [
       "<AxesSubplot:xlabel='trading_date'>"
      ]
     },
     "execution_count": 25,
     "metadata": {},
     "output_type": "execute_result"
    },
    {
     "data": {
      "image/png": "[encoded data removed]",
      "text/plain": [
       "<Figure size 432x288 with 1 Axes>"
      ]
     },
     "metadata": {
      "needs_background": "light"
     },
     "output_type": "display_data"
    }
   ],
   "source": [
    "net_s = all_pnl_1d_df.mul(portfolio_weight_s).sum(axis=1)\n",
    "net_s.cumsum().plot()"
   ]
  },
  {
   "cell_type": "code",
   "execution_count": null,
   "metadata": {},
   "outputs": [],
   "source": []
  },
  {
   "cell_type": "code",
   "execution_count": null,
   "metadata": {},
   "outputs": [],
   "source": []
  }
 ],
 "metadata": {
  "interpreter": {
   "hash": "ecf5722fdaf1897a315d257d89d94520bfcaa453217d5becf09b39e73618b0de"
  },
  "kernelspec": {
   "display_name": "Python 3 (ipykernel)",
   "language": "python",
   "name": "python3"
  },
  "language_info": {
   "codemirror_mode": {
    "name": "ipython",
    "version": 3
   },
   "file_extension": ".py",
   "mimetype": "text/x-python",
   "name": "python",
   "nbconvert_exporter": "python",
   "pygments_lexer": "ipython3",
   "version": "3.8.10"
  }
 },
 "nbformat": 4,
 "nbformat_minor": 4
}